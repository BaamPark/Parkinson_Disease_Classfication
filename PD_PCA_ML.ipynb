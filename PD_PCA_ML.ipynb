{
  "cells": [
    {
      "cell_type": "code",
      "execution_count": null,
      "metadata": {
        "id": "FLfyyBMkNtPD"
      },
      "outputs": [],
      "source": [
        "from sklearn.utils import resample\n",
        "from sklearn import preprocessing\n",
        "from sklearn.linear_model import LogisticRegression\n",
        "from sklearn.metrics import accuracy_score, log_loss\n",
        "from sklearn.metrics import f1_score\n",
        "import pandas as pd\n",
        "from sklearn.model_selection import train_test_split\n",
        "import matplotlib.pyplot as plt\n",
        "from sklearn.metrics import confusion_matrix\n",
        "from sklearn.model_selection import cross_val_score\n",
        "from sklearn.metrics import classification_report\n",
        "from sklearn.svm import SVC\n",
        "from sklearn.ensemble import RandomForestClassifier\n",
        "from sklearn.naive_bayes import GaussianNB\n",
        "from sklearn.decomposition import PCA\n",
        "from imblearn.over_sampling import SMOTE\n",
        "import numpy as np\n",
        "from sklearn.preprocessing import StandardScaler"
      ]
    },
    {
      "cell_type": "code",
      "execution_count": null,
      "metadata": {
        "id": "oyyxZVKqk83b"
      },
      "outputs": [],
      "source": [
        "df = pd.read_csv(\"pd_speech_features.csv\")"
      ]
    },
    {
      "cell_type": "code",
      "execution_count": null,
      "metadata": {
        "id": "0T-JMVH48GPu"
      },
      "outputs": [],
      "source": [
        "y = df.loc[:,'class']\n",
        "X = df.drop(['class', 'id'], axis=1)\n",
        "\n",
        "scaler = StandardScaler()\n",
        "X_scaled = scaler.fit_transform(X)\n",
        "\n",
        "X_train, X_test, y_train, y_test = train_test_split(X_scaled, y, test_size=0.25, random_state=27)"
      ]
    },
    {
      "cell_type": "code",
      "execution_count": null,
      "metadata": {
        "colab": {
          "base_uri": "https://localhost:8080/"
        },
        "id": "I7DjuHfslhAf",
        "outputId": "11b727e1-f915-4a53-dab5-27ac03d2af53"
      },
      "outputs": [
        {
          "name": "stdout",
          "output_type": "stream",
          "text": [
            "1    421\n",
            "0    146\n",
            "Name: class, dtype: int64\n",
            "(756, 755)\n"
          ]
        }
      ],
      "source": [
        "from sklearn.model_selection import train_test_split\n",
        "\n",
        "y = df.loc[:,'class']\n",
        "X = df.drop(['class', 'id'], axis=1)\n",
        "\n",
        "X_train, X_test, y_train, y_test = train_test_split(X, y, test_size=0.25, random_state=27)\n",
        "df_combined = pd.concat([X_train, y_train], axis=1)\n",
        "\n",
        "pks = df_combined.loc[df_combined['class'] == 1]\n",
        "non_pks = df_combined.loc[df_combined['class'] == 0]\n",
        "\n",
        "print(df_combined['class'].value_counts())\n",
        "print(df.shape)\n",
        "# y = df.loc[:,'class']\n",
        "# X = df.drop(['class', 'id'], axis=1)\n",
        "\n",
        "# X_train, X_test, y_train, y_test = train_test_split(X, y, test_size=0.25, random_state=27)\n",
        "# X = pd.concat([X_train, y_train], axis=1)\n",
        "\n",
        "# parkinson = X.loc[X['class'] == 1]\n",
        "# not_parkinson = X.loc[X['class'] == 0]"
      ]
    },
    {
      "cell_type": "markdown",
      "metadata": {
        "id": "hiws4U6hq6Gm"
      },
      "source": [
        "without Resampling"
      ]
    },
    {
      "cell_type": "markdown",
      "metadata": {
        "id": "wFTjsD3ymcuc"
      },
      "source": [
        "Resampling"
      ]
    },
    {
      "cell_type": "code",
      "execution_count": null,
      "metadata": {
        "colab": {
          "base_uri": "https://localhost:8080/"
        },
        "id": "1gV4Zah5FSIk",
        "outputId": "301b4a58-e8c3-4460-d0fb-04761d3a0bf6"
      },
      "outputs": [
        {
          "name": "stdout",
          "output_type": "stream",
          "text": [
            "(560, 753)\n",
            "(834, 753)\n",
            "--------------------------------------------------\n",
            "Accuracy: 0.8449197860962567\n",
            "Accuracy: 0.8960573476702509\n",
            "--------------------------------------------------\n"
          ]
        }
      ],
      "source": [
        "def resampling(df):\n",
        "  y = df.loc[:,'class']\n",
        "  X = df.drop(['class', 'id'], axis=1)\n",
        "\n",
        "  X_train, X_test, y_train, y_test = train_test_split(X, y, test_size=0.25, random_state=42)\n",
        "  df_combined = pd.concat([X_train, y_train], axis=1)\n",
        "\n",
        "  pks = df_combined.loc[df_combined['class'] == 1]\n",
        "  non_pks = df_combined.loc[df_combined['class'] == 0]\n",
        "  print(X_train.shape)\n",
        "\n",
        "  non_pks_resampled = resample(non_pks,\n",
        "                            replace=True, # sample with replacement\n",
        "                            n_samples=len(pks), # match number in majority class\n",
        "                            random_state=42)\n",
        "  \n",
        "  resampled = pd.concat([pks, non_pks_resampled])\n",
        "\n",
        "  y_train_resampled = resampled.loc[:,'class']\n",
        "  X_train_resampled = resampled.drop(['class'], axis=1)\n",
        "  min_max_scaler = preprocessing.MinMaxScaler()\n",
        "  X_train_resampled = min_max_scaler.fit_transform(X_train_resampled)\n",
        "  X_test = min_max_scaler.transform(X_test)\n",
        "  resampled['class'].value_counts()\n",
        "  print(X_train_resampled.shape)\n",
        "\n",
        "  #apply SVM to check resampled dataset\n",
        "  model = LogisticRegression(max_iter=300)\n",
        "  model.fit(X_train_resampled, y_train_resampled)\n",
        "  prediction = model.predict(X_test)\n",
        "  print(\"--------------------------------------------------\")\n",
        "  print(\"Accuracy:\",accuracy_score(y_test, prediction))\n",
        "  print(\"Accuracy:\", f1_score(y_test, prediction))\n",
        "  print(\"--------------------------------------------------\")\n",
        "\n",
        "resampling(df)\n"
      ]
    },
    {
      "cell_type": "markdown",
      "metadata": {
        "id": "8ZG8Od1is46H"
      },
      "source": [
        "Oversampling: SMOTE"
      ]
    },
    {
      "cell_type": "code",
      "execution_count": null,
      "metadata": {
        "colab": {
          "base_uri": "https://localhost:8080/"
        },
        "id": "U3Sf95YmGX8v",
        "outputId": "474940c1-6de9-465c-a3b5-e1e1d4d24193"
      },
      "outputs": [
        {
          "name": "stdout",
          "output_type": "stream",
          "text": [
            "(567, 753)\n",
            "(852, 753)\n",
            "number of PD: 426\n",
            "number of non-PD: 426\n",
            "--------------------------------------------------\n",
            "Accuracy: 0.8359788359788359\n",
            "Accuracy: 0.8864468864468865\n",
            "--------------------------------------------------\n"
          ]
        }
      ],
      "source": [
        "from imblearn.over_sampling import SMOTE\n",
        "import numpy as np\n",
        "from sklearn.metrics import f1_score\n",
        "\n",
        "def smote(df):\n",
        "  y = df.loc[:,'class']\n",
        "  X = df.drop(['class', 'id'], axis=1)\n",
        "\n",
        "  X_train, X_test, y_train, y_test = train_test_split(X, y, test_size=0.25, random_state=42)\n",
        "\n",
        "  print(X_train.shape)\n",
        "  min_max_scaler = preprocessing.MinMaxScaler()\n",
        "  X_train = min_max_scaler.fit_transform(X_train)\n",
        "  X_test = min_max_scaler.transform(X_test)\n",
        "\n",
        "  sm = SMOTE(random_state=42)\n",
        "  X_train_smote, y_train_smote = sm.fit_resample(X_train, y_train)\n",
        "\n",
        "  oversampled = np.column_stack((X_train_smote, y_train_smote))\n",
        "  print(X_train_smote.shape)\n",
        "  num_ones = np.count_nonzero(oversampled[:, -1] == 1)\n",
        "  print(\"number of PD:\", num_ones)\n",
        "  print(\"number of non-PD:\", oversampled.shape[0]-num_ones)\n",
        "\n",
        "  model = LogisticRegression(max_iter=300)\n",
        "  model.fit(X_train_smote, y_train_smote)\n",
        "  prediction = model.predict(X_test)\n",
        "\n",
        "  print(\"--------------------------------------------------\")\n",
        "  print(\"Accuracy:\",accuracy_score(y_test, prediction))\n",
        "  print(\"Accuracy:\", f1_score(y_test, prediction))\n",
        "  print(\"--------------------------------------------------\")\n",
        "\n",
        "smote(df)"
      ]
    },
    {
      "cell_type": "markdown",
      "metadata": {
        "id": "KXos4rMU5smE"
      },
      "source": [
        "ADASYN"
      ]
    },
    {
      "cell_type": "code",
      "execution_count": null,
      "metadata": {
        "colab": {
          "base_uri": "https://localhost:8080/"
        },
        "id": "80bI86zS5nTG",
        "outputId": "09a7ac0f-f7f8-407d-c8f5-7b3f9c1ff32d"
      },
      "outputs": [
        {
          "name": "stdout",
          "output_type": "stream",
          "text": [
            "(567, 753)\n",
            "(852, 753)\n",
            "number of PD: 426\n",
            "number of non-PD: 426\n",
            "--------------------------------------------------\n",
            "Accuracy: 0.8359788359788359\n",
            "Accuracy: 0.8864468864468865\n",
            "--------------------------------------------------\n"
          ]
        }
      ],
      "source": [
        "from imblearn.over_sampling import ADASYN\n",
        "\n",
        "def adasyn(df):\n",
        "  y = df.loc[:,'class']\n",
        "  X = df.drop(['class', 'id'], axis=1)\n",
        "\n",
        "  X_train, X_test, y_train, y_test = train_test_split(X, y, test_size=0.25, random_state=42)\n",
        "\n",
        "  min_max_scaler = preprocessing.MinMaxScaler()\n",
        "  X_train = min_max_scaler.fit_transform(X_train)\n",
        "  X_test = min_max_scaler.transform(X_test)\n",
        "\n",
        "  ada = ADASYN(random_state=42)\n",
        "  X_train_smote, y_train_smote = ada.fit_resample(X_train, y_train)\n",
        "\n",
        "  oversampled = np.column_stack((X_train_smote, y_train_smote))\n",
        "  num_ones = np.count_nonzero(oversampled[:, -1] == 1)\n",
        "  print(\"number of PD:\", num_ones)\n",
        "  print(\"number of non-PD:\", oversampled.shape[0]-num_ones)\n",
        "\n",
        "  model = LogisticRegression(max_iter=300)\n",
        "  model.fit(X_train_smote, y_train_smote)\n",
        "  prediction = model.predict(X_test)\n",
        "\n",
        "  print(\"--------------------------------------------------\")\n",
        "  print(\"Accuracy:\",accuracy_score(y_test, prediction))\n",
        "  print(\"Accuracy:\", f1_score(y_test, prediction))\n",
        "  print(\"--------------------------------------------------\")\n",
        "\n",
        "smote(df)"
      ]
    },
    {
      "cell_type": "markdown",
      "metadata": {
        "id": "8_bLAgmhUuGx"
      },
      "source": [
        "Continue with SMOTE"
      ]
    },
    {
      "cell_type": "code",
      "execution_count": null,
      "metadata": {
        "colab": {
          "base_uri": "https://localhost:8080/"
        },
        "id": "2JlvW8naKnZC",
        "outputId": "4a0ad347-f765-4969-f36f-edeab34dd94f"
      },
      "outputs": [
        {
          "name": "stdout",
          "output_type": "stream",
          "text": [
            "number of PD: 426\n",
            "number of non-PD: 426\n"
          ]
        },
        {
          "data": {
            "text/plain": [
              "(852, 753)"
            ]
          },
          "execution_count": 5,
          "metadata": {},
          "output_type": "execute_result"
        }
      ],
      "source": [
        "y = df.loc[:,'class']\n",
        "X = df.drop(['class', 'id'], axis=1)\n",
        "\n",
        "X_train, X_test, y_train, y_test = train_test_split(X, y, test_size=0.25, random_state=42)\n",
        "df_combined = pd.concat([X_train, y_train], axis=1)\n",
        "\n",
        "min_max_scaler = preprocessing.MinMaxScaler()\n",
        "X_train = min_max_scaler.fit_transform(X_train)\n",
        "X_test = min_max_scaler.transform(X_test)\n",
        "\n",
        "\n",
        "sm = SMOTE(random_state=42)\n",
        "X_train_smote, y_train_smote = sm.fit_resample(X_train, y_train)\n",
        "\n",
        "oversampled = np.column_stack((X_train_smote, y_train_smote))\n",
        "num_ones = np.count_nonzero(oversampled[:, -1] == 1)\n",
        "print(\"number of PD:\", num_ones)\n",
        "print(\"number of non-PD:\", oversampled.shape[0]-num_ones)\n",
        "\n",
        "X_train = X_train_smote\n",
        "y_train = y_train_smote\n",
        "X = min_max_scaler.transform(X)\n",
        "X_train.shape\n"
      ]
    },
    {
      "cell_type": "markdown",
      "metadata": {
        "id": "rHNi_PvxVvL9"
      },
      "source": [
        "Confusion matrix plot"
      ]
    },
    {
      "cell_type": "code",
      "execution_count": null,
      "metadata": {
        "id": "dIyZLbT9Ud3N"
      },
      "outputs": [],
      "source": [
        "\n",
        "def plot_confusion_matrix(cm, classes,\n",
        "                          normalize=False,\n",
        "                          title='Confusion matrix',\n",
        "                          cmap=plt.cm.Blues):\n",
        "    \"\"\"\n",
        "    This function prints and plots the confusion matrix.\n",
        "    Normalization can be applied by setting `normalize=True`.\n",
        "    \"\"\"\n",
        "    plt.figure(figsize = (5,5))\n",
        "    plt.imshow(cm, interpolation='nearest', cmap=cmap)\n",
        "    plt.title(title)\n",
        "    plt.colorbar()\n",
        "    tick_marks = np.arange(len(classes))\n",
        "    plt.xticks(tick_marks, classes, rotation=90)\n",
        "    plt.yticks(tick_marks, classes)\n",
        "    if normalize:\n",
        "        cm = cm.astype('float') / cm.sum(axis=1)[:, np.newaxis]\n",
        "\n",
        "    thresh = cm.max() / 2.\n",
        "    for i, j in itertools.product(range(cm.shape[0]), range(cm.shape[1])):\n",
        "        plt.text(j, i, cm[i, j],\n",
        "                 horizontalalignment=\"center\",\n",
        "                 color=\"white\" if cm[i, j] > thresh else \"black\")\n",
        "    plt.tight_layout()\n",
        "    plt.ylabel('01')\n",
        "    plt.xlabel('01')"
      ]
    },
    {
      "cell_type": "code",
      "execution_count": null,
      "metadata": {
        "id": "Tt87D_IoWY2B"
      },
      "outputs": [],
      "source": [
        "def plot_confusion_matrix(conf_mat):\n",
        "  fig, ax = plt.subplots()\n",
        "\n",
        "  # Create a heatmap from the confusion matrix\n",
        "  im = ax.imshow(conf_mat, cmap='Blues')\n",
        "\n",
        "  # Add labels to the plot\n",
        "  ax.set_xticks([0, 1])\n",
        "  ax.set_yticks([0, 1])\n",
        "  ax.set_xticklabels(['predicted_0', 'predicted_1'])\n",
        "  ax.set_yticklabels(['true_0', 'true_1'])\n",
        "\n",
        "  # Rotate the tick labels and set their alignment\n",
        "  plt.setp(ax.get_xticklabels(), rotation=45, ha=\"right\",\n",
        "          rotation_mode=\"anchor\")\n",
        "\n",
        "  # Loop over data dimensions and create text annotations\n",
        "  for i in range(conf_mat.shape[0]):\n",
        "      for j in range(conf_mat.shape[1]):\n",
        "          text = ax.text(j, i, conf_mat[i, j],\n",
        "                        ha=\"center\", va=\"center\", color=\"black\")\n",
        "\n",
        "  # Add a colorbar\n",
        "  cbar = ax.figure.colorbar(im, ax=ax)\n",
        "  cbar.ax.set_ylabel('Number of samples', rotation=-90, va=\"bottom\")\n",
        "\n",
        "  # Show the plot\n",
        "  plt.show()"
      ]
    },
    {
      "cell_type": "code",
      "execution_count": null,
      "metadata": {
        "colab": {
          "base_uri": "https://localhost:8080/",
          "height": 307
        },
        "id": "1bm2Qihhbi4s",
        "outputId": "aff57af3-5d1e-4eb8-a3bf-7bc0c3b1270b"
      },
      "outputs": [
        {
          "data": {
            "image/png": "[encoded data removed]",
            "text/plain": [
              "<Figure size 432x288 with 2 Axes>"
            ]
          },
          "metadata": {
            "needs_background": "light"
          },
          "output_type": "display_data"
        }
      ],
      "source": [
        "model = LogisticRegression(max_iter=300)\n",
        "model.fit(X_train, y_train)\n",
        "prediction = model.predict(X_test)\n",
        "conf_mat = confusion_matrix(y_test, prediction)\n",
        "plot_confusion_matrix(conf_mat)"
      ]
    },
    {
      "cell_type": "markdown",
      "metadata": {
        "id": "60Gc8CVkskXM"
      },
      "source": [
        "Logistic Regression"
      ]
    },
    {
      "cell_type": "code",
      "execution_count": null,
      "metadata": {
        "colab": {
          "base_uri": "https://localhost:8080/",
          "height": 550
        },
        "id": "eJhdEBT9cW0u",
        "outputId": "4e22359b-e2e4-4c80-afae-e030041d2033"
      },
      "outputs": [
        {
          "name": "stdout",
          "output_type": "stream",
          "text": [
            "--------------------------------------------------------\n",
            "Test Accuracy LogisticRegression Model : 0.8359788359788359\n",
            "--------------------------------------------------------\n",
            "Cross valdation avaerage score 0.8293917741373301\n",
            "--------------------------------------------------------\n",
            "              precision    recall  f1-score   support\n",
            "\n",
            "           0       0.69      0.73      0.70        51\n",
            "           1       0.90      0.88      0.89       138\n",
            "\n",
            "    accuracy                           0.84       189\n",
            "   macro avg       0.79      0.80      0.80       189\n",
            "weighted avg       0.84      0.84      0.84       189\n",
            "\n"
          ]
        },
        {
          "data": {
            "image/png": "[encoded data removed]",
            "text/plain": [
              "<Figure size 432x288 with 2 Axes>"
            ]
          },
          "metadata": {
            "needs_background": "light"
          },
          "output_type": "display_data"
        }
      ],
      "source": [
        "def lr_func(X_train, y_train, X_test, y_test, X, y):\n",
        "    model = LogisticRegression(random_state=42, max_iter=1000).fit(X_train, y_train)\n",
        "    # fitting the classifier\n",
        "    model.fit(X_train, y_train)\n",
        "\n",
        "    y_pred = model.predict(X_test)\n",
        "    y_pred_train = model.predict(X_train)\n",
        "\n",
        "    print(\"--------------------------------------------------------\")\n",
        "    print(\"Test Accuracy LogisticRegression Model :\",  accuracy_score(y_test, y_pred))\n",
        "    print(\"--------------------------------------------------------\")\n",
        "    score = cross_val_score(model, X, y, cv=5, scoring='accuracy')\n",
        "    print(\"Cross valdation avaerage score\", score.mean())\n",
        "    print(\"--------------------------------------------------------\")\n",
        "    print(classification_report(y_test, y_pred))\n",
        "    confusion_mtx = confusion_matrix(y_test, y_pred)\n",
        "    plot_confusion_matrix(confusion_mtx)\n",
        "\n",
        "lr_func(X_train, y_train, X_test, y_test, X, y)"
      ]
    },
    {
      "cell_type": "markdown",
      "metadata": {
        "id": "5oKL-NDJ5zpT"
      },
      "source": [
        "SVM - linear\n"
      ]
    },
    {
      "cell_type": "code",
      "execution_count": null,
      "metadata": {
        "colab": {
          "base_uri": "https://localhost:8080/",
          "height": 554
        },
        "id": "35Dw_GQa1vBV",
        "outputId": "cfb8d2b2-5700-437a-c92b-98b8e55bab01"
      },
      "outputs": [
        {
          "name": "stdout",
          "output_type": "stream",
          "text": [
            "--------------------------------------------------------\n",
            "Test Accuracy LogisticRegression Model : 0.8253968253968254\n",
            "--------------------------------------------------------\n",
            "Cross valdation avaerage score 0.808243290345068\n",
            "--------------------------------------------------------\n",
            "              precision    recall  f1-score   support\n",
            "\n",
            "           0       0.62      0.74      0.67        46\n",
            "           1       0.91      0.85      0.88       143\n",
            "\n",
            "    accuracy                           0.83       189\n",
            "   macro avg       0.76      0.80      0.78       189\n",
            "weighted avg       0.84      0.83      0.83       189\n",
            "\n"
          ]
        },
        {
          "data": {
            "image/png": "[encoded data removed]",
            "text/plain": [
              "<Figure size 432x288 with 2 Axes>"
            ]
          },
          "metadata": {
            "needs_background": "light"
          },
          "output_type": "display_data"
        }
      ],
      "source": [
        "def svm_func_linear(X_train, y_train, X_test, y_test, X, y): #X and y are needed to calculate cross validation score\n",
        "\n",
        "    model = SVC(kernel='linear', decision_function_shape='ovr')\n",
        "    model.fit(X_train, y_train)\n",
        "    #‘linear’, ‘poly’, ‘rbf’\n",
        "\n",
        "    y_pred = model.predict(X_test)\n",
        "    y_pred_train = model.predict(X_train)\n",
        "\n",
        "    print(\"--------------------------------------------------------\")\n",
        "    print(\"Test Accuracy LogisticRegression Model :\",  accuracy_score(y_test, y_pred))\n",
        "    print(\"--------------------------------------------------------\")\n",
        "    score = cross_val_score(model, X, y, cv=5, scoring='accuracy')\n",
        "    print(\"Cross valdation avaerage score\", score.mean())\n",
        "    print(\"--------------------------------------------------------\")\n",
        "    print(classification_report(y_test, y_pred))\n",
        "    confusion_mtx = confusion_matrix(y_test, y_pred)\n",
        "    plot_confusion_matrix(confusion_mtx)\n",
        "\n",
        "svm_func(X_train, y_train, X_test, y_test, X, y)"
      ]
    },
    {
      "cell_type": "markdown",
      "metadata": {
        "id": "vzBDAEz5GeoN"
      },
      "source": [
        "SVM - poly"
      ]
    },
    {
      "cell_type": "code",
      "execution_count": null,
      "metadata": {
        "colab": {
          "base_uri": "https://localhost:8080/",
          "height": 548
        },
        "id": "KtYPsjfhGLCo",
        "outputId": "7affcf41-2fcc-43cd-b583-ea3e951ed575"
      },
      "outputs": [
        {
          "name": "stdout",
          "output_type": "stream",
          "text": [
            "--------------------------------------------------------\n",
            "Test Accuracy LogisticRegression Model : 0.873015873015873\n",
            "--------------------------------------------------------\n",
            "Cross valdation avaerage score 0.8399790867898222\n",
            "--------------------------------------------------------\n",
            "              precision    recall  f1-score   support\n",
            "\n",
            "           0       0.76      0.76      0.76        51\n",
            "           1       0.91      0.91      0.91       138\n",
            "\n",
            "    accuracy                           0.87       189\n",
            "   macro avg       0.84      0.84      0.84       189\n",
            "weighted avg       0.87      0.87      0.87       189\n",
            "\n"
          ]
        },
        {
          "data": {
            "image/png": "[encoded data removed]",
            "text/plain": [
              "<Figure size 432x288 with 2 Axes>"
            ]
          },
          "metadata": {
            "needs_background": "light"
          },
          "output_type": "display_data"
        }
      ],
      "source": [
        "def svm_func_poly(X_train, y_train, X_test, y_test, X, y): #X and y are needed to calculate cross validation score\n",
        "\n",
        "    model = SVC(kernel='poly', decision_function_shape='ovr')\n",
        "    model.fit(X_train, y_train)\n",
        "    #‘linear’, ‘poly’, ‘rbf’\n",
        "\n",
        "    y_pred = model.predict(X_test)\n",
        "    y_pred_train = model.predict(X_train)\n",
        "\n",
        "    print(\"--------------------------------------------------------\")\n",
        "    print(\"Test Accuracy LogisticRegression Model :\",  accuracy_score(y_test, y_pred))\n",
        "    print(\"--------------------------------------------------------\")\n",
        "    score = cross_val_score(model, X, y, cv=5, scoring='accuracy')\n",
        "    print(\"Cross valdation avaerage score\", score.mean())\n",
        "    print(\"--------------------------------------------------------\")\n",
        "    print(classification_report(y_test, y_pred))\n",
        "    confusion_mtx = confusion_matrix(y_test, y_pred)\n",
        "    plot_confusion_matrix(confusion_mtx)\n",
        "\n",
        "svm_func_poly(X_train, y_train, X_test, y_test, X, y)"
      ]
    },
    {
      "cell_type": "code",
      "execution_count": null,
      "metadata": {
        "colab": {
          "base_uri": "https://localhost:8080/",
          "height": 554
        },
        "id": "dmaeMo4vGOAA",
        "outputId": "a51c0a67-7ac4-491c-967d-76074ce21c08"
      },
      "outputs": [
        {
          "name": "stdout",
          "output_type": "stream",
          "text": [
            "--------------------------------------------------------\n",
            "Test Accuracy LogisticRegression Model : 0.7936507936507936\n",
            "--------------------------------------------------------\n",
            "Cross valdation avaerage score 0.8439700243987452\n",
            "--------------------------------------------------------\n",
            "              precision    recall  f1-score   support\n",
            "\n",
            "           0       0.56      0.70      0.62        46\n",
            "           1       0.89      0.83      0.86       143\n",
            "\n",
            "    accuracy                           0.79       189\n",
            "   macro avg       0.73      0.76      0.74       189\n",
            "weighted avg       0.81      0.79      0.80       189\n",
            "\n"
          ]
        },
        {
          "data": {
            "image/png": "[encoded data removed]",
            "text/plain": [
              "<Figure size 432x288 with 2 Axes>"
            ]
          },
          "metadata": {
            "needs_background": "light"
          },
          "output_type": "display_data"
        }
      ],
      "source": [
        "def svm_rbf(X_train, y_train, X_test, y_test, X, y): #X and y are needed to calculate cross validation score\n",
        "\n",
        "    model = SVC(kernel='rbf', decision_function_shape='ovr')\n",
        "    model.fit(X_train, y_train)\n",
        "    #‘linear’, ‘poly’, ‘rbf’\n",
        "\n",
        "    y_pred = model.predict(X_test)\n",
        "    y_pred_train = model.predict(X_train)\n",
        "\n",
        "    print(\"--------------------------------------------------------\")\n",
        "    print(\"Test Accuracy LogisticRegression Model :\",  accuracy_score(y_test, y_pred))\n",
        "    print(\"--------------------------------------------------------\")\n",
        "    score = cross_val_score(model, X, y, cv=5, scoring='accuracy')\n",
        "    print(\"Cross valdation avaerage score\", score.mean())\n",
        "    print(\"--------------------------------------------------------\")\n",
        "    print(classification_report(y_test, y_pred))\n",
        "    confusion_mtx = confusion_matrix(y_test, y_pred)\n",
        "    plot_confusion_matrix(confusion_mtx)\n",
        "\n",
        "svm_rbf(X_train, y_train, X_test, y_test, X, y)"
      ]
    },
    {
      "cell_type": "markdown",
      "metadata": {
        "id": "Kau3nGq8H1bH"
      },
      "source": [
        "Random Forest classifier\n",
        "\n"
      ]
    },
    {
      "cell_type": "code",
      "execution_count": null,
      "metadata": {
        "colab": {
          "base_uri": "https://localhost:8080/",
          "height": 585
        },
        "id": "M2zzdK7CH0Jl",
        "outputId": "8909c5f4-be93-467e-f630-9f3954e9ffd9"
      },
      "outputs": [
        {
          "name": "stdout",
          "output_type": "stream",
          "text": [
            "--------------------------------------------------------\n",
            "Test Accuracy LogisticRegression Model : 0.8042328042328042\n",
            "--------------------------------------------------------\n",
            "Cross valdation avaerage score 0.8029801324503312\n",
            "--------------------------------------------------------\n",
            "              precision    recall  f1-score   support\n",
            "\n",
            "           0       0.59      0.63      0.61        46\n",
            "           1       0.88      0.86      0.87       143\n",
            "\n",
            "    accuracy                           0.80       189\n",
            "   macro avg       0.74      0.75      0.74       189\n",
            "weighted avg       0.81      0.80      0.81       189\n",
            "\n"
          ]
        },
        {
          "data": {
            "image/png": "[encoded data removed]",
            "text/plain": [
              "<Figure size 432x288 with 2 Axes>"
            ]
          },
          "metadata": {},
          "output_type": "display_data"
        }
      ],
      "source": [
        "def RFC(X_train, y_train, X_test, y_test, X, y):\n",
        "  model = RandomForestClassifier(max_depth=2, random_state=0)\n",
        "  model.fit(X_train, y_train)\n",
        "  y_pred = model.predict((X_test))\n",
        "  print(\"--------------------------------------------------------\")\n",
        "  print(\"Test Accuracy LogisticRegression Model :\",  accuracy_score(y_test, y_pred))\n",
        "  print(\"--------------------------------------------------------\")\n",
        "  score = cross_val_score(model, X, y, cv=5, scoring='accuracy')\n",
        "  print(\"Cross valdation avaerage score\", score.mean())\n",
        "  print(\"--------------------------------------------------------\")\n",
        "  print(classification_report(y_test, y_pred))\n",
        "  confusion_mtx = confusion_matrix(y_test, y_pred)\n",
        "  plot_confusion_matrix(confusion_mtx)\n",
        "  \n",
        "RFC(X_train, y_train, X_test, y_test, X, y)"
      ]
    },
    {
      "cell_type": "markdown",
      "metadata": {
        "id": "BBBCg3DILKdn"
      },
      "source": [
        "Naive "
      ]
    },
    {
      "cell_type": "code",
      "execution_count": null,
      "metadata": {
        "colab": {
          "base_uri": "https://localhost:8080/",
          "height": 554
        },
        "id": "dHv-TeTSLJCR",
        "outputId": "8b8ea6ea-7a77-4a12-8008-5f4a9d8e6623"
      },
      "outputs": [
        {
          "name": "stdout",
          "output_type": "stream",
          "text": [
            "--------------------------------------------------------\n",
            "Test Accuracy LogisticRegression Model : 0.7354497354497355\n",
            "--------------------------------------------------------\n",
            "Cross valdation avaerage score 0.7539212269083304\n",
            "--------------------------------------------------------\n",
            "              precision    recall  f1-score   support\n",
            "\n",
            "           0       0.47      0.63      0.54        46\n",
            "           1       0.87      0.77      0.81       143\n",
            "\n",
            "    accuracy                           0.74       189\n",
            "   macro avg       0.67      0.70      0.68       189\n",
            "weighted avg       0.77      0.74      0.75       189\n",
            "\n"
          ]
        },
        {
          "data": {
            "image/png": "[encoded data removed]",
            "text/plain": [
              "<Figure size 432x288 with 2 Axes>"
            ]
          },
          "metadata": {
            "needs_background": "light"
          },
          "output_type": "display_data"
        }
      ],
      "source": [
        "def GNB(X_train, y_train, X_test, y_test, X, y):\n",
        "    model = GaussianNB()\n",
        "    model.fit(X_train, y_train)\n",
        "    y_pred = model.predict(X_test)\n",
        "\n",
        "    print(\"--------------------------------------------------------\")\n",
        "    print(\"Test Accuracy LogisticRegression Model :\",  accuracy_score(y_test, y_pred))\n",
        "    print(\"--------------------------------------------------------\")\n",
        "    score = cross_val_score(model, X, y, cv=5, scoring='accuracy')\n",
        "    print(\"Cross valdation avaerage score\", score.mean())\n",
        "    print(\"--------------------------------------------------------\")\n",
        "    print(classification_report(y_test, y_pred))\n",
        "    confusion_mtx = confusion_matrix(y_test, y_pred)\n",
        "    plot_confusion_matrix(confusion_mtx)\n",
        "\n",
        "GNB(X_train, y_train, X_test, y_test, X, y)\n",
        "    "
      ]
    },
    {
      "cell_type": "markdown",
      "metadata": {
        "id": "0YeOnHlSO0bo"
      },
      "source": [
        "PCA"
      ]
    },
    {
      "cell_type": "code",
      "execution_count": null,
      "metadata": {
        "colab": {
          "base_uri": "https://localhost:8080/",
          "height": 467
        },
        "id": "FQ2tf2u8NjGH",
        "outputId": "e22cd6d8-7923-4dfc-f20d-3a765ffffeaa"
      },
      "outputs": [
        {
          "data": {
            "text/plain": [
              "<Figure size 432x288 with 0 Axes>"
            ]
          },
          "metadata": {},
          "output_type": "display_data"
        },
        {
          "data": {
            "image/png": "[encoded data removed]",
            "text/plain": [
              "<Figure size 576x432 with 1 Axes>"
            ]
          },
          "metadata": {},
          "output_type": "display_data"
        },
        {
          "name": "stdout",
          "output_type": "stream",
          "text": [
            "0.953127505633766\n"
          ]
        }
      ],
      "source": [
        "pca = PCA(n_components=150)\n",
        "X_pca = pca.fit_transform(X)\n",
        "\n",
        "xs = np.array(range(1,151))\n",
        "plt.figure()\n",
        "plt.style.use('fivethirtyeight')\n",
        "plt.figure(figsize=(8, 6));\n",
        "plt.xticks(fontsize=12);\n",
        "plt.yticks(fontsize=12);\n",
        "plt.bar(xs, np.cumsum(pca.explained_variance_ratio_));\n",
        "plt.bar(xs, np.cumsum(pca.explained_variance_ratio_));\n",
        "plt.xlabel('Principal Component', fontsize=13);\n",
        "plt.ylabel('Covered Variance by this PC', fontsize=13);\n",
        "plt.title(\"Explained variation per principal component\", fontsize=15);\n",
        "plt.show();\n",
        "\n",
        "pca = PCA(n_components=120)\n",
        "X_pca = pca.fit_transform(X)\n",
        "print(np.cumsum(pca.explained_variance_ratio_)[-1]) #when pcs are 120, 95% variance"
      ]
    },
    {
      "cell_type": "markdown",
      "metadata": {
        "id": "C4vYU4fpfFum"
      },
      "source": [
        "upsampling + PCA with 120 + SVM_poly"
      ]
    },
    {
      "cell_type": "code",
      "execution_count": null,
      "metadata": {
        "colab": {
          "base_uri": "https://localhost:8080/",
          "height": 461
        },
        "id": "RVx6UoBZab71",
        "outputId": "ddc2eb7c-74eb-4cec-99f9-6fbdb8e05148"
      },
      "outputs": [
        {
          "name": "stdout",
          "output_type": "stream",
          "text": [
            "--------------------------------------------------------\n",
            "Test Accuracy LogisticRegression Model : 0.8201058201058201\n",
            "--------------------------------------------------------\n",
            "Cross valdation avaerage score 0.7473597072150575\n",
            "--------------------------------------------------------\n",
            "              precision    recall  f1-score   support\n",
            "\n",
            "           0       1.00      0.26      0.41        46\n",
            "           1       0.81      1.00      0.89       143\n",
            "\n",
            "    accuracy                           0.82       189\n",
            "   macro avg       0.90      0.63      0.65       189\n",
            "weighted avg       0.85      0.82      0.78       189\n",
            "\n"
          ]
        },
        {
          "ename": "NameError",
          "evalue": "ignored",
          "output_type": "error",
          "traceback": [
            "\u001b[0;31m---------------------------------------------------------------------------\u001b[0m",
            "\u001b[0;31mNameError\u001b[0m                                 Traceback (most recent call last)",
            "\u001b[0;32m<ipython-input-5-f988b4603963>\u001b[0m in \u001b[0;36m<module>\u001b[0;34m\u001b[0m\n\u001b[1;32m     20\u001b[0m \u001b[0mprint\u001b[0m\u001b[0;34m(\u001b[0m\u001b[0mclassification_report\u001b[0m\u001b[0;34m(\u001b[0m\u001b[0my_test\u001b[0m\u001b[0;34m,\u001b[0m \u001b[0my_pred\u001b[0m\u001b[0;34m)\u001b[0m\u001b[0;34m)\u001b[0m\u001b[0;34m\u001b[0m\u001b[0;34m\u001b[0m\u001b[0m\n\u001b[1;32m     21\u001b[0m \u001b[0mconfusion_mtx\u001b[0m \u001b[0;34m=\u001b[0m \u001b[0mconfusion_matrix\u001b[0m\u001b[0;34m(\u001b[0m\u001b[0my_test\u001b[0m\u001b[0;34m,\u001b[0m \u001b[0my_pred\u001b[0m\u001b[0;34m)\u001b[0m\u001b[0;34m\u001b[0m\u001b[0;34m\u001b[0m\u001b[0m\n\u001b[0;32m---> 22\u001b[0;31m \u001b[0mplot_confusion_matrix\u001b[0m\u001b[0;34m(\u001b[0m\u001b[0mconfusion_mtx\u001b[0m\u001b[0;34m)\u001b[0m\u001b[0;34m\u001b[0m\u001b[0;34m\u001b[0m\u001b[0m\n\u001b[0m\u001b[1;32m     23\u001b[0m \u001b[0;34m\u001b[0m\u001b[0m\n",
            "\u001b[0;31mNameError\u001b[0m: name 'plot_confusion_matrix' is not defined"
          ]
        }
      ],
      "source": [
        "pca = PCA(n_components=120, whiten=False, svd_solver='auto')\n",
        "\n",
        "X_train = pca.fit_transform(X_train)\n",
        "X_test = pca.transform(X_test)\n",
        "X_train.shape\n",
        "\n",
        "model = SVC(kernel='poly', decision_function_shape='ovr')\n",
        "model.fit(X_train, y_train)\n",
        "#‘linear’, ‘poly’, ‘rbf’\n",
        "\n",
        "y_pred = model.predict(X_test)\n",
        "y_pred_train = model.predict(X_train)\n",
        "\n",
        "print(\"--------------------------------------------------------\")\n",
        "print(\"Test Accuracy LogisticRegression Model :\",  accuracy_score(y_test, y_pred))\n",
        "print(\"--------------------------------------------------------\")\n",
        "score = cross_val_score(model, X, y, cv=5, scoring='accuracy')\n",
        "print(\"Cross valdation avaerage score\", score.mean())\n",
        "print(\"--------------------------------------------------------\")\n",
        "print(classification_report(y_test, y_pred))\n",
        "confusion_mtx = confusion_matrix(y_test, y_pred)\n",
        "plot_confusion_matrix(confusion_mtx)\n",
        "\n"
      ]
    }
  ],
  "metadata": {
    "colab": {
      "provenance": []
    },
    "kernelspec": {
      "display_name": "Python 3",
      "name": "python3"
    },
    "language_info": {
      "name": "python"
    }
  },
  "nbformat": 4,
  "nbformat_minor": 0
}
