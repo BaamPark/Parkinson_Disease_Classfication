{
  "nbformat": 4,
  "nbformat_minor": 0,
  "metadata": {
    "colab": {
      "provenance": []
    },
    "kernelspec": {
      "name": "python3",
      "display_name": "Python 3"
    },
    "language_info": {
      "name": "python"
    }
  },
  "cells": [
    {
      "cell_type": "code",
      "execution_count": null,
      "metadata": {
        "id": "xbaNc4_O6VrB"
      },
      "outputs": [],
      "source": [
        "import pandas as pd\n",
        "from sklearn.utils import resample\n",
        "from sklearn import preprocessing\n",
        "from sklearn.linear_model import LogisticRegression\n",
        "from sklearn.metrics import accuracy_score, log_loss\n",
        "from sklearn.metrics import f1_score\n",
        "import pandas as pd\n",
        "from sklearn.model_selection import train_test_split\n",
        "import matplotlib.pyplot as plt\n",
        "from sklearn.metrics import confusion_matrix\n",
        "from sklearn.model_selection import cross_val_score\n",
        "from sklearn.metrics import classification_report\n",
        "from sklearn.svm import SVC\n",
        "from sklearn.ensemble import RandomForestClassifier\n",
        "from sklearn.naive_bayes import GaussianNB\n",
        "from sklearn.decomposition import PCA\n",
        "from imblearn.over_sampling import SMOTE\n",
        "import numpy as np\n",
        "from sklearn.preprocessing import StandardScaler\n",
        "\n",
        "df = pd.read_csv(\"pd_speech_features.csv\") # import dataset "
      ]
    },
    {
      "cell_type": "code",
      "source": [
        "y = df.loc[:,'class']\n",
        "X = df.drop(['class', 'id'], axis=1)\n",
        "\n",
        "min_max_scaler = preprocessing.MinMaxScaler()\n",
        "X = min_max_scaler.fit_transform(X)\n",
        "\n",
        "sm = SMOTE(random_state=42)\n",
        "X, y = sm.fit_resample(X, y)\n",
        "\n",
        "oversampled = np.column_stack((X, y))\n",
        "num_ones = np.count_nonzero(oversampled[:, -1] == 1)\n",
        "print(\"number of PD:\", num_ones)\n",
        "print(\"number of non-PD:\", oversampled.shape[0]-num_ones)"
      ],
      "metadata": {
        "colab": {
          "base_uri": "https://localhost:8080/"
        },
        "id": "8K6X9WWfHaZ6",
        "outputId": "4896ce66-8da5-4b6a-e01a-914c3c380ed9"
      },
      "execution_count": null,
      "outputs": [
        {
          "output_type": "stream",
          "name": "stdout",
          "text": [
            "number of PD: 564\n",
            "number of non-PD: 564\n"
          ]
        }
      ]
    },
    {
      "cell_type": "code",
      "source": [
        "# First, import the necessary modules\n",
        "from sklearn.preprocessing import StandardScaler\n",
        "from sklearn.decomposition import KernelPCA\n",
        "\n",
        "# Then, create a KernelPCA object with the desired number of dimensions\n",
        "kpca = KernelPCA(n_components=120, kernel='rbf')\n",
        "\n",
        "# Fit the KernelPCA object to the scaled dataset\n",
        "kpca.fit(X)\n",
        "\n",
        "# Finally, transform the scaled dataset using the fitted KernelPCA object\n",
        "X_kpca = kpca.transform(X)"
      ],
      "metadata": {
        "id": "p-nfh_Mb6Xn2"
      },
      "execution_count": null,
      "outputs": []
    },
    {
      "cell_type": "code",
      "source": [
        "from sklearn.model_selection import train_test_split\n",
        "X = X_kpca\n",
        "X_train, X_test, y_train, y_test = train_test_split(X_kpca, y, test_size=0.25, random_state=42)\n",
        "X_train.shape"
      ],
      "metadata": {
        "id": "p4Bet5MF6uNt",
        "colab": {
          "base_uri": "https://localhost:8080/"
        },
        "outputId": "7a4a8aad-0124-4a4b-89b5-8e8354cccd3e"
      },
      "execution_count": null,
      "outputs": [
        {
          "output_type": "execute_result",
          "data": {
            "text/plain": [
              "(846, 120)"
            ]
          },
          "metadata": {},
          "execution_count": 15
        }
      ]
    },
    {
      "cell_type": "code",
      "source": [
        "def lr_func(X_train, y_train, X_test, y_test, X, y):\n",
        "    model = LogisticRegression(random_state=42, max_iter=1000).fit(X_train, y_train)\n",
        "    # fitting the classifier\n",
        "    model.fit(X_train, y_train)\n",
        "\n",
        "    y_pred = model.predict(X_test)\n",
        "    y_pred_train = model.predict(X_train)\n",
        "\n",
        "    print(\"--------------------------------------------------------\")\n",
        "    print(\"Test Accuracy LogisticRegression Model :\",  accuracy_score(y_test, y_pred))\n",
        "    print(\"--------------------------------------------------------\")\n",
        "    score = cross_val_score(model, X, y, cv=5, scoring='accuracy')\n",
        "    print(\"Cross valdation avaerage score\", score.mean())\n",
        "    print(\"--------------------------------------------------------\")\n",
        "    print(classification_report(y_test, y_pred))\n",
        "    # confusion_mtx = confusion_matrix(y_test, y_pred)\n",
        "    # plot_confusion_matrix(confusion_mtx)\n",
        "lr_func(X_train, y_train, X_test, y_test, X, y)"
      ],
      "metadata": {
        "colab": {
          "base_uri": "https://localhost:8080/"
        },
        "id": "o8L6AvPl7HCF",
        "outputId": "3b40d873-2fd1-4968-f49e-52741cc3225b"
      },
      "execution_count": null,
      "outputs": [
        {
          "output_type": "stream",
          "name": "stdout",
          "text": [
            "--------------------------------------------------------\n",
            "Test Accuracy LogisticRegression Model : 0.75177304964539\n",
            "--------------------------------------------------------\n",
            "Cross valdation avaerage score 0.7295968534906587\n",
            "--------------------------------------------------------\n",
            "              precision    recall  f1-score   support\n",
            "\n",
            "           0       0.72      0.78      0.75       134\n",
            "           1       0.79      0.72      0.75       148\n",
            "\n",
            "    accuracy                           0.75       282\n",
            "   macro avg       0.75      0.75      0.75       282\n",
            "weighted avg       0.75      0.75      0.75       282\n",
            "\n"
          ]
        }
      ]
    }
  ]
}